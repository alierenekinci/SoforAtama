{
 "cells": [
  {
   "cell_type": "code",
   "execution_count": 1,
   "metadata": {
    "collapsed": true,
    "ExecuteTime": {
     "end_time": "2023-06-04T19:14:21.875614200Z",
     "start_time": "2023-06-04T19:14:21.784881400Z"
    }
   },
   "outputs": [],
   "source": [
    "from ortools.sat.python import cp_model\n",
    "model = cp_model.CpModel()"
   ]
  },
  {
   "cell_type": "markdown",
   "source": [
    "[] Her otobüsün tek bir defa çalışma kısıtı eklenmeli\n",
    "[]"
   ],
   "metadata": {
    "collapsed": false
   }
  },
  {
   "cell_type": "code",
   "execution_count": 2,
   "outputs": [],
   "source": [
    "# Parametreler\n",
    "sofor_i = 3\n",
    "otobus_j = 1\n",
    "hat_k = 2\n",
    "sefer_l = 2\n",
    "gun_y = 1\n",
    "\n",
    "# T_k: k. hatta ihtiyaç duyulan şoför sayısı\n",
    "# W_kl: k. hattın l. vardiyasındaki sefer sayısı\n",
    "T_k = [1, 1, 1]"
   ],
   "metadata": {
    "collapsed": false,
    "ExecuteTime": {
     "end_time": "2023-06-04T19:14:21.879749500Z",
     "start_time": "2023-06-04T19:14:21.877614100Z"
    }
   }
  },
  {
   "cell_type": "code",
   "execution_count": 3,
   "outputs": [],
   "source": [
    "# i: şoför 1,…,n\n",
    "# j: gün 1, …, m\n",
    "# k: hat 1, …, p\n",
    "# l: vardiya 1, …, t\n",
    "\n",
    "sofor_sayisi_i = range(1, sofor_i + 1)\n",
    "otobus_sayisi_j = range(1, otobus_j + 1)\n",
    "hat_sayisi_k = range(1, hat_k + 1)\n",
    "sefer_sayisi_l = range(1, sefer_l + 1)\n",
    "gun_sayisi_y = range(1, gun_y + 1)"
   ],
   "metadata": {
    "collapsed": false,
    "ExecuteTime": {
     "end_time": "2023-06-04T19:14:21.884130100Z",
     "start_time": "2023-06-04T19:14:21.880748Z"
    }
   }
  },
  {
   "cell_type": "code",
   "execution_count": 4,
   "outputs": [
    {
     "data": {
      "text/plain": "{(1, 1, 1, 1, 1): X_i1-j1-k1-l1-y1(0..1),\n (1, 1, 1, 1, 2): X_i1-j1-k1-l1-y2(0..1),\n (1, 1, 1, 2, 1): X_i1-j1-k1-l2-y1(0..1),\n (1, 1, 1, 2, 2): X_i1-j1-k1-l2-y2(0..1),\n (2, 1, 1, 1, 1): X_i2-j1-k1-l1-y1(0..1),\n (2, 1, 1, 1, 2): X_i2-j1-k1-l1-y2(0..1),\n (2, 1, 1, 2, 1): X_i2-j1-k1-l2-y1(0..1),\n (2, 1, 1, 2, 2): X_i2-j1-k1-l2-y2(0..1),\n (3, 1, 1, 1, 1): X_i3-j1-k1-l1-y1(0..1),\n (3, 1, 1, 1, 2): X_i3-j1-k1-l1-y2(0..1),\n (3, 1, 1, 2, 1): X_i3-j1-k1-l2-y1(0..1),\n (3, 1, 1, 2, 2): X_i3-j1-k1-l2-y2(0..1)}"
     },
     "execution_count": 4,
     "metadata": {},
     "output_type": "execute_result"
    }
   ],
   "source": [
    "X = {}\n",
    "\n",
    "for i in sofor_sayisi_i:\n",
    "    for j in otobus_sayisi_j:\n",
    "        for y in gun_sayisi_y:\n",
    "            for k in hat_sayisi_k:\n",
    "                for l in sefer_sayisi_l:\n",
    "                    X[(i, j, y, k, l)] = model.NewBoolVar('X_i%i-j%i-k%i-l%i-y%i' % (i, j, y, k, l))\n",
    "\n",
    "X"
   ],
   "metadata": {
    "collapsed": false,
    "ExecuteTime": {
     "end_time": "2023-06-04T19:14:21.891503500Z",
     "start_time": "2023-06-04T19:14:21.886131Z"
    }
   }
  },
  {
   "cell_type": "code",
   "execution_count": 5,
   "outputs": [],
   "source": [
    "# Kısıtlar"
   ],
   "metadata": {
    "collapsed": false,
    "ExecuteTime": {
     "end_time": "2023-06-04T19:14:21.896099600Z",
     "start_time": "2023-06-04T19:14:21.893011Z"
    }
   }
  },
  {
   "cell_type": "code",
   "execution_count": 6,
   "outputs": [],
   "source": [
    "for y in gun_sayisi_y:\n",
    "    for k in hat_sayisi_k:\n",
    "        for l in sefer_sayisi_l:\n",
    "            model.Add(sum(X[(i, j, y, k, l)] for i in sofor_sayisi_i for j in otobus_sayisi_j) == 1)"
   ],
   "metadata": {
    "collapsed": false,
    "ExecuteTime": {
     "end_time": "2023-06-04T19:14:21.937358300Z",
     "start_time": "2023-06-04T19:14:21.896099600Z"
    }
   }
  },
  {
   "cell_type": "raw",
   "source": [
    "for i in sofor_sayisi_i:\n",
    "    for j in otobus_sayisi_j:\n",
    "        for y in gun_sayisi_y:\n",
    "            for k in hat_sayisi_k:\n",
    "                model.Add(sum(X[(i, j, y, k, l)] for l in sefer_sayisi_l) < 3)\n"
   ],
   "metadata": {
    "collapsed": false
   }
  },
  {
   "cell_type": "code",
   "execution_count": 7,
   "outputs": [],
   "source": [
    "\n",
    "\n",
    "min_sefer_sofor = (otobus_j * gun_y * hat_k * sefer_l) // sofor_i\n",
    "\n",
    "if (otobus_j * gun_y * hat_k * sefer_l) % sofor_i == 0:\n",
    "    max_sefer_sofor = min_sefer_sofor\n",
    "else:\n",
    "    max_sefer_sofor = min_sefer_sofor + 1\n",
    "\n",
    "for i in sofor_sayisi_i:\n",
    "    shifts_worked = []\n",
    "    for j in otobus_sayisi_j:\n",
    "        for y in gun_sayisi_y:\n",
    "            for k in hat_sayisi_k:\n",
    "                for l in sefer_sayisi_l:\n",
    "                    shifts_worked.append(X[(i, j, y, k, l)])\n",
    "    model.Add(min_sefer_sofor <= sum(shifts_worked))\n",
    "    model.Add(sum(shifts_worked) <= max_sefer_sofor)"
   ],
   "metadata": {
    "collapsed": false,
    "ExecuteTime": {
     "end_time": "2023-06-04T19:14:21.943356500Z",
     "start_time": "2023-06-04T19:14:21.902183300Z"
    }
   }
  },
  {
   "cell_type": "code",
   "execution_count": 8,
   "outputs": [],
   "source": [
    "class DriversSolutionPrinter(cp_model.CpSolverSolutionCallback):\n",
    "    \"\"\"Print intermediate solutions.\"\"\"\n",
    "\n",
    "    def __init__(self, X, sofor_i, otobus_j, hat_k, sefer_l, gun_y, limit):\n",
    "        cp_model.CpSolverSolutionCallback.__init__(self)\n",
    "        self._X = X\n",
    "        self._sofor_i = sofor_i + 1\n",
    "        self._otobus_j = otobus_j + 1\n",
    "        self._hat_k = hat_k + 1\n",
    "        self._sefer_l = sefer_l + 1\n",
    "        self._gun_y = gun_y + 1\n",
    "        self._solution_count = 0\n",
    "        self._solution_limit = limit\n",
    "        self._solution_json = {}\n",
    "\n",
    "\n",
    "\n",
    "\n",
    "\n",
    "    def on_solution_callback(self):\n",
    "        self._solution_count += 1\n",
    "        solution_list = []\n",
    "        print('Çözüm %i' % self._solution_count)\n",
    "        for y in range(1, self._gun_y):\n",
    "            print('  Gün %i' % y)\n",
    "\n",
    "            for i in range(1, self._sofor_i):\n",
    "                is_working = False\n",
    "                for j in range(1, self._otobus_j):\n",
    "                    for k in range(1, self._hat_k):\n",
    "                        for l in range(1, self._sefer_l):\n",
    "                            if self.Value(self._X[(i, j, y, k, l)]):\n",
    "                                is_working = True\n",
    "                                print('    Şoför %i -> %i. otobüs, %i. hat, %i. sefer' % (i, j, k, l))\n",
    "                if not is_working:\n",
    "                    print('    Şoför {} çalışmıyor.'.format(i))\n",
    "\n",
    "\n",
    "        if self._solution_count >= self._solution_limit:\n",
    "            print('Stop search after %i solutions' % self._solution_limit)\n",
    "            self.StopSearch()\n",
    "\n",
    "\n",
    "    def solution_count(self):\n",
    "        return self._solution_count\n",
    "\n",
    "\n",
    "solution_limit = 1\n",
    "solution_printer = DriversSolutionPrinter(X, sofor_i, otobus_j, hat_k, sefer_l, gun_y, solution_limit)"
   ],
   "metadata": {
    "collapsed": false,
    "ExecuteTime": {
     "end_time": "2023-06-04T19:14:21.944356600Z",
     "start_time": "2023-06-04T19:14:21.906217900Z"
    }
   }
  },
  {
   "cell_type": "code",
   "execution_count": 9,
   "outputs": [],
   "source": [
    "solver = cp_model.CpSolver()\n",
    "solver.parameters.linearization_level = 0\n",
    "# Enumerate all solutions.\n",
    "solver.parameters.enumerate_all_solutions = True"
   ],
   "metadata": {
    "collapsed": false,
    "ExecuteTime": {
     "end_time": "2023-06-04T19:14:21.944356600Z",
     "start_time": "2023-06-04T19:14:21.914448700Z"
    }
   }
  },
  {
   "cell_type": "code",
   "execution_count": 10,
   "outputs": [
    {
     "name": "stdout",
     "output_type": "stream",
     "text": [
      "Çözüm 1\n",
      "  Gün 1\n",
      "    Şoför 1 -> 1. otobüs, 2. hat, 1. sefer\n",
      "    Şoför 1 -> 1. otobüs, 2. hat, 2. sefer\n",
      "    Şoför 2 -> 1. otobüs, 1. hat, 2. sefer\n",
      "    Şoför 3 -> 1. otobüs, 1. hat, 1. sefer\n",
      "Stop search after 1 solutions\n"
     ]
    }
   ],
   "source": [
    "f = solver.Solve(model, solution_printer)"
   ],
   "metadata": {
    "collapsed": false,
    "ExecuteTime": {
     "end_time": "2023-06-04T19:14:21.944356600Z",
     "start_time": "2023-06-04T19:14:21.919398600Z"
    }
   }
  },
  {
   "cell_type": "code",
   "execution_count": 14,
   "outputs": [
    {
     "data": {
      "text/plain": "2"
     },
     "execution_count": 14,
     "metadata": {},
     "output_type": "execute_result"
    }
   ],
   "source": [
    "f"
   ],
   "metadata": {
    "collapsed": false,
    "ExecuteTime": {
     "end_time": "2023-06-04T19:15:36.540625700Z",
     "start_time": "2023-06-04T19:15:36.532231100Z"
    }
   }
  },
  {
   "cell_type": "code",
   "execution_count": 10,
   "outputs": [],
   "source": [],
   "metadata": {
    "collapsed": false,
    "ExecuteTime": {
     "end_time": "2023-06-04T19:14:21.944356600Z",
     "start_time": "2023-06-04T19:14:21.927297100Z"
    }
   }
  },
  {
   "cell_type": "code",
   "execution_count": 10,
   "outputs": [],
   "source": [],
   "metadata": {
    "collapsed": false,
    "ExecuteTime": {
     "end_time": "2023-06-04T19:14:21.944356600Z",
     "start_time": "2023-06-04T19:14:21.937358300Z"
    }
   }
  },
  {
   "cell_type": "code",
   "execution_count": 10,
   "outputs": [],
   "source": [],
   "metadata": {
    "collapsed": false,
    "ExecuteTime": {
     "end_time": "2023-06-04T19:14:21.945356300Z",
     "start_time": "2023-06-04T19:14:21.937358300Z"
    }
   }
  },
  {
   "cell_type": "code",
   "execution_count": 10,
   "outputs": [],
   "source": [],
   "metadata": {
    "collapsed": false,
    "ExecuteTime": {
     "end_time": "2023-06-04T19:14:21.945356300Z",
     "start_time": "2023-06-04T19:14:21.937358300Z"
    }
   }
  }
 ],
 "metadata": {
  "kernelspec": {
   "display_name": "Python 3",
   "language": "python",
   "name": "python3"
  },
  "language_info": {
   "codemirror_mode": {
    "name": "ipython",
    "version": 2
   },
   "file_extension": ".py",
   "mimetype": "text/x-python",
   "name": "python",
   "nbconvert_exporter": "python",
   "pygments_lexer": "ipython2",
   "version": "2.7.6"
  }
 },
 "nbformat": 4,
 "nbformat_minor": 0
}
